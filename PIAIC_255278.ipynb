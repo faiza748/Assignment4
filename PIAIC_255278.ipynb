{
 "cells": [
  {
   "cell_type": "code",
   "execution_count": null,
   "metadata": {},
   "outputs": [],
   "source": [
    "#Questions 1: Ticket Pricing System\n",
    "\n",
    "age = int(input(\"Enter your age : \"))\n",
    "if age < 5:\n",
    "  ticket_price = \"Free\"\n",
    "elif 5 <= age <= 17:\n",
    "  ticket_price = \"$10\"\n",
    "elif 18 <= age <= 60:\n",
    "  ticket_price = \"$20\"\n",
    "else:\n",
    "  ticket_price = \"$15\"\n",
    "print(\"ticket_price:\",ticket_price)"
   ]
  },
  {
   "cell_type": "code",
   "execution_count": null,
   "metadata": {},
   "outputs": [],
   "source": [
    "# Question 2 :Meal Recommendation\n",
    "\n",
    "time = int(input(\"Enter the time in 24-hour format(0-23) : \"))\n",
    "if 5 <= time <= 11:\n",
    "   meal_recommendation = \"It's time for Breakfast\"\n",
    "elif 12 <= time <= 16:\n",
    "   meal_recommendation = \"It's time for Lunch\"\n",
    "elif 17 <= time <= 21:\n",
    "   meal_recommendation = \"It's time for Dinner\"\n",
    "elif 22 <= time or time < 5:\n",
    "   meal_recommendation = \"It's time for Snack\"\n",
    "print(\"Meal_Recommendation:\",meal_recommendation)"
   ]
  },
  {
   "cell_type": "code",
   "execution_count": null,
   "metadata": {},
   "outputs": [],
   "source": [
    "# Question 3 : Grocery Bill Calculator\n",
    "\n",
    "price1 = int(input(\"Enter the price  :\"))\n",
    "price2 = int(input(\"Enter the price  :\"))\n",
    "price3= int(input(\"Enter the price  :\"))\n",
    "price4 = int(input(\"Enter the price  :\"))\n",
    "price5 = int(input(\"Enter the price  :\"))\n",
    "total_bill= price1+price2+price3+price4+price5\n",
    "print(\"Total_bill \",total_bill)\n",
    "if total_bill > 100 :\n",
    "  discounted_bill = total_bill*0.10\n",
    "  discounted_bill = total_bill-discounted_bill\n",
    "  print(\"Discounted_bill \",discounted_bill)\n",
    "else:\n",
    "  print(\"Discounted_bill \",total_bill)"
   ]
  },
  {
   "cell_type": "code",
   "execution_count": null,
   "metadata": {},
   "outputs": [],
   "source": [
    "# Question 4 : Username Validator\n",
    "\n",
    "Username = input(\"Enter the Username :\")\n",
    "if len(Username) >= 5 and len(Username)<=15 :\n",
    "  print(\"Valid Username\")\n",
    "else:\n",
    "  print(\"Invalid Username\")"
   ]
  },
  {
   "cell_type": "code",
   "execution_count": null,
   "metadata": {},
   "outputs": [],
   "source": [
    "# Question 5 : Travel Destination Suggestion\n",
    "\n",
    "weather = input(\"Enter the weather :\")\n",
    "if weather == \"sunny\":\n",
    "  print(\"Go to beach!\")\n",
    "elif weather == \"rainy\":\n",
    "  print(\"Visit to a cozy mountain lodge!\")\n",
    "elif weather == \"snowy\":\n",
    "  print(\"Time for a ski trip!\")\n",
    "else:\n",
    "  print(\"Go to beach!\")"
   ]
  },
  {
   "cell_type": "code",
   "execution_count": null,
   "metadata": {},
   "outputs": [],
   "source": [
    "# Question 6 : Discount Eligibility Checker\n",
    "\n",
    "total_Spent = int(input(\"Enter your total amount: \"))\n",
    "loyalty_Member = input(\"Are you a loyalty member? (yes/no).\")\n",
    "if total_Spent >= 200 or loyalty_Member == \"yes\":\n",
    "  print(\"Eligible for a discount\")\n",
    "else:\n",
    "  print(\"Not eligible for a discount\")\n"
   ]
  },
  {
   "cell_type": "code",
   "execution_count": null,
   "metadata": {},
   "outputs": [],
   "source": [
    "# Question 7 : Event Invitation\n",
    "\n",
    "Guest_List = [\"Syeda\", \"faiza\", \"noor\", \"horain\"]\n",
    "user_name = str(input(\"Enter your name:\"))\n",
    "if user_name in Guest_List:\n",
    "  print(\"You are invited!\")\n",
    "else:\n",
    "  print(\"You are not invited.\")"
   ]
  },
  {
   "cell_type": "code",
   "execution_count": null,
   "metadata": {},
   "outputs": [],
   "source": [
    "# Question 8 : Movie Streaming Eligibility\n",
    "\n",
    "age = int(input(\"Enter your age:\"))\n",
    "movie_type = input(\"Enter your movie type:\")\n",
    "if movie_type == \"action movies\":\n",
    " if age >= 18 :\n",
    "  print(\"You can watch action movies.\")\n",
    "elif movie_type == \"animated movies\":\n",
    "  print(\"You can watch animated movies.\")\n",
    "else :\n",
    " movie_type == \"documentries\"\n",
    " if age >= 12  :\n",
    "  print(\"You can watch documentries.\")"
   ]
  },
  {
   "cell_type": "code",
   "execution_count": null,
   "metadata": {},
   "outputs": [],
   "source": [
    "# Question 9 : Phone Number Formatter\n",
    "number =  int(input(\"Enter your phone number:\"))\n",
    "number = str(number)\n",
    "formated_number = \"(\" + number[0:3] + \")\" + \" \" + number[3:6] + \"-\" + number[6:]\n",
    "print(formated_number)\n"
   ]
  },
  {
   "cell_type": "code",
   "execution_count": null,
   "metadata": {},
   "outputs": [],
   "source": [
    "# Question 10 : Package Shaping Cost\n",
    "weight = int(input(\"Enter the weight of package:\"))\n",
    "if weight <=1:\n",
    "  print(5)\n",
    "elif weight<=5:\n",
    "  print(10)\n",
    "elif weight<=20:\n",
    "  print(20)\n",
    "else:\n",
    "  print(50)\n"
   ]
  },
  {
   "cell_type": "code",
   "execution_count": null,
   "metadata": {},
   "outputs": [],
   "source": [
    "# Question 11: Student Grading System\n",
    "\n",
    "sub1 = int(input(\"Enter the marks of sub1:\"))\n",
    "sub2 = int(input(\"Enter the marks of sub2:\"))\n",
    "sub3 = int(input(\"Enter the marks of sub3:\"))\n",
    "sub4 = int(input(\"Enter the marks of sub4:\"))\n",
    "sub5 = int(input(\"Enter the marks of sub5:\"))\n",
    "print()\n",
    "total = sub1+sub2+sub3+sub4+sub5\n",
    "print(\"Total:\",total)\n",
    "percentage = (total/500)*100\n",
    "print(\"Percentage:\",percentage,\"%\")\n",
    "if percentage >= 90:\n",
    "  print(\"Grade: A\")\n",
    "elif percentage >= 80:\n",
    "  print(\"Grade: B\")\n",
    "elif percentage >= 70:\n",
    "  print(\"Grade: C\")\n",
    "elif percentage >= 60:\n",
    "  print(\"Grade: D\")\n",
    "else:\n",
    "  print(\"Grade: F\")\n",
    "if percentage ==60  or percentage>= 60:\n",
    "  print(\"Result: Pass\")\n",
    "else:\n",
    "  print(\"Result: Fail\")"
   ]
  }
 ],
 "metadata": {
  "kernelspec": {
   "display_name": "Python 3",
   "language": "python",
   "name": "python3"
  },
  "language_info": {
   "name": "python",
   "version": "3.13.1"
  }
 },
 "nbformat": 4,
 "nbformat_minor": 2
}
